{
 "cells": [
  {
   "cell_type": "code",
   "execution_count": 17,
   "metadata": {},
   "outputs": [
    {
     "name": "stdout",
     "output_type": "stream",
     "text": [
      "\n",
      "******************* Python Calculator *******************\n",
      "Qual operação? 1-Adição, 2-Subtração, 3-Multiplicacao, 4-Divisão | 4\n",
      "Digite um numero inteiro | 1\n",
      "Digite outro numero inteiro | 0\n",
      "1 / 0 = None\n"
     ]
    }
   ],
   "source": [
    "# Calculadora em Python\n",
    "\n",
    "# Desenvolva uma calculadora em Python com tudo que você aprendeu nos capítulos 2 e 3. \n",
    "# A solução será apresentada no próximo capítulo!\n",
    "# Assista o vídeo com a execução do programa!\n",
    "\n",
    "print(\"\\n******************* Python Calculator *******************\")\n",
    "\n",
    "def soma(x,y):\n",
    "    return x+y\n",
    "\n",
    "def multiplicacao(x,y):\n",
    "    return x * y\n",
    "\n",
    "def divisao(numerador, denominador):\n",
    "    if denominador != 0:\n",
    "        return numerador/denominador\n",
    "    \n",
    "\n",
    "def subtracao(x,y):\n",
    "    return x-y\n",
    "\n",
    "opcao = int(input('Qual operação? 1-Adição, 2-Subtração, 3-Multiplicacao, 4-Divisão | '))\n",
    "num1 = int(input('Digite um numero inteiro | '))\n",
    "num2 = int(input('Digite outro numero inteiro | '))\n",
    "\n",
    "if opcao == 1:\n",
    "    print(num1,'+',num2,'=',soma(num1, num2))\n",
    "elif opcao == 2:\n",
    "    print(num1,'-',num2,'=',subtracao(num1, num2))\n",
    "elif opcao == 3:\n",
    "    print(num1,'*',num2,'=',multiplicacao(num1, num2))\n",
    "elif opcao == 4:\n",
    "    print(num1,'/',num2,'=',divisao(num1, num2))\n",
    "else:\n",
    "    print('Opção Inválida')\n",
    "    "
   ]
  }
 ],
 "metadata": {
  "kernelspec": {
   "display_name": "Python 3",
   "language": "python",
   "name": "python3"
  },
  "language_info": {
   "codemirror_mode": {
    "name": "ipython",
    "version": 3
   },
   "file_extension": ".py",
   "mimetype": "text/x-python",
   "name": "python",
   "nbconvert_exporter": "python",
   "pygments_lexer": "ipython3",
   "version": "3.8.5"
  }
 },
 "nbformat": 4,
 "nbformat_minor": 4
}
